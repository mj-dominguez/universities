{
 "cells": [
  {
   "cell_type": "code",
   "execution_count": 1,
   "metadata": {},
   "outputs": [],
   "source": [
    "import numpy as np\n",
    "import pandas as pd\n",
    "import matplotlib.pyplot as plt\n",
    "import seaborn as sns\n",
    "pd.set_option('display.max_rows', 1000)\n",
    "\n",
    "uni = pd.read_csv('universities.csv', delimiter = ',', header = 0)"
   ]
  },
  {
   "cell_type": "code",
   "execution_count": 2,
   "metadata": {},
   "outputs": [
    {
     "data": {
      "text/html": [
       "<div>\n",
       "<style scoped>\n",
       "    .dataframe tbody tr th:only-of-type {\n",
       "        vertical-align: middle;\n",
       "    }\n",
       "\n",
       "    .dataframe tbody tr th {\n",
       "        vertical-align: top;\n",
       "    }\n",
       "\n",
       "    .dataframe thead th {\n",
       "        text-align: right;\n",
       "    }\n",
       "</style>\n",
       "<table border=\"1\" class=\"dataframe\">\n",
       "  <thead>\n",
       "    <tr style=\"text-align: right;\">\n",
       "      <th></th>\n",
       "      <th>name</th>\n",
       "      <th>address</th>\n",
       "      <th>Website</th>\n",
       "      <th>Type</th>\n",
       "      <th>Size</th>\n",
       "    </tr>\n",
       "  </thead>\n",
       "  <tbody>\n",
       "    <tr>\n",
       "      <th>0</th>\n",
       "      <td>A T Still University of Health Sciences</td>\n",
       "      <td>800 W Jefferson, Kirksville, Missouri 63501</td>\n",
       "      <td>WWW.ATSU.EDU</td>\n",
       "      <td>4-year, Private not-for-profit</td>\n",
       "      <td>3480.0</td>\n",
       "    </tr>\n",
       "    <tr>\n",
       "      <th>1</th>\n",
       "      <td>Abilene Christian University</td>\n",
       "      <td>1600 Campus Court, Abilene, Texas 79699</td>\n",
       "      <td>www.acu.edu</td>\n",
       "      <td>4-year, Private not-for-profit</td>\n",
       "      <td>4669.0</td>\n",
       "    </tr>\n",
       "    <tr>\n",
       "      <th>2</th>\n",
       "      <td>Abraham Baldwin Agricultural College</td>\n",
       "      <td>2802 Moore Hwy, Tifton, Georgia 31793-2601</td>\n",
       "      <td>www.abac.edu</td>\n",
       "      <td>4-year, primarily associate's, Public</td>\n",
       "      <td>3600.0</td>\n",
       "    </tr>\n",
       "    <tr>\n",
       "      <th>3</th>\n",
       "      <td>Academy College</td>\n",
       "      <td>1101 E. 78th Street, Suite 100, Minneapolis, M...</td>\n",
       "      <td>www.academycollege.edu</td>\n",
       "      <td>4-year, primarily associate's, Private for-profit</td>\n",
       "      <td>165.0</td>\n",
       "    </tr>\n",
       "    <tr>\n",
       "      <th>4</th>\n",
       "      <td>Academy for Five Element Acupuncture</td>\n",
       "      <td>305 SE 2nd Ave, Gainesville, Florida 32601</td>\n",
       "      <td>www.acupuncturist.edu</td>\n",
       "      <td>4-year, Private not-for-profit</td>\n",
       "      <td>51.0</td>\n",
       "    </tr>\n",
       "  </tbody>\n",
       "</table>\n",
       "</div>"
      ],
      "text/plain": [
       "                                      name  \\\n",
       "0  A T Still University of Health Sciences   \n",
       "1             Abilene Christian University   \n",
       "2     Abraham Baldwin Agricultural College   \n",
       "3                          Academy College   \n",
       "4     Academy for Five Element Acupuncture   \n",
       "\n",
       "                                             address                 Website  \\\n",
       "0        800 W Jefferson, Kirksville, Missouri 63501            WWW.ATSU.EDU   \n",
       "1            1600 Campus Court, Abilene, Texas 79699             www.acu.edu   \n",
       "2         2802 Moore Hwy, Tifton, Georgia 31793-2601            www.abac.edu   \n",
       "3  1101 E. 78th Street, Suite 100, Minneapolis, M...  www.academycollege.edu   \n",
       "4         305 SE 2nd Ave, Gainesville, Florida 32601   www.acupuncturist.edu   \n",
       "\n",
       "                                                Type    Size  \n",
       "0                     4-year, Private not-for-profit  3480.0  \n",
       "1                     4-year, Private not-for-profit  4669.0  \n",
       "2              4-year, primarily associate's, Public  3600.0  \n",
       "3  4-year, primarily associate's, Private for-profit   165.0  \n",
       "4                     4-year, Private not-for-profit    51.0  "
      ]
     },
     "execution_count": 2,
     "metadata": {},
     "output_type": "execute_result"
    }
   ],
   "source": [
    "uni.head()"
   ]
  },
  {
   "cell_type": "code",
   "execution_count": 3,
   "metadata": {},
   "outputs": [
    {
     "name": "stdout",
     "output_type": "stream",
     "text": [
      "<class 'pandas.core.frame.DataFrame'>\n",
      "RangeIndex: 2907 entries, 0 to 2906\n",
      "Data columns (total 5 columns):\n",
      " #   Column   Non-Null Count  Dtype  \n",
      "---  ------   --------------  -----  \n",
      " 0   name     2907 non-null   object \n",
      " 1   address  2907 non-null   object \n",
      " 2   Website  2822 non-null   object \n",
      " 3   Type     2907 non-null   object \n",
      " 4   Size     2829 non-null   float64\n",
      "dtypes: float64(1), object(4)\n",
      "memory usage: 113.7+ KB\n"
     ]
    }
   ],
   "source": [
    "uni.info()"
   ]
  },
  {
   "cell_type": "code",
   "execution_count": 4,
   "metadata": {},
   "outputs": [
    {
     "data": {
      "text/plain": [
       "Index(['name', 'address', 'Website', 'Type', 'Size'], dtype='object')"
      ]
     },
     "execution_count": 4,
     "metadata": {},
     "output_type": "execute_result"
    }
   ],
   "source": [
    "uni.columns"
   ]
  },
  {
   "cell_type": "code",
   "execution_count": 5,
   "metadata": {},
   "outputs": [
    {
     "data": {
      "text/plain": [
       "RangeIndex(start=0, stop=2907, step=1)"
      ]
     },
     "execution_count": 5,
     "metadata": {},
     "output_type": "execute_result"
    }
   ],
   "source": [
    "uni.index"
   ]
  },
  {
   "cell_type": "markdown",
   "metadata": {},
   "source": [
    "##  Mean size by each university type"
   ]
  },
  {
   "cell_type": "code",
   "execution_count": 6,
   "metadata": {},
   "outputs": [
    {
     "data": {
      "text/html": [
       "<div>\n",
       "<style scoped>\n",
       "    .dataframe tbody tr th:only-of-type {\n",
       "        vertical-align: middle;\n",
       "    }\n",
       "\n",
       "    .dataframe tbody tr th {\n",
       "        vertical-align: top;\n",
       "    }\n",
       "\n",
       "    .dataframe thead th {\n",
       "        text-align: right;\n",
       "    }\n",
       "</style>\n",
       "<table border=\"1\" class=\"dataframe\">\n",
       "  <thead>\n",
       "    <tr style=\"text-align: right;\">\n",
       "      <th></th>\n",
       "      <th>Size</th>\n",
       "    </tr>\n",
       "    <tr>\n",
       "      <th>Type</th>\n",
       "      <th></th>\n",
       "    </tr>\n",
       "  </thead>\n",
       "  <tbody>\n",
       "    <tr>\n",
       "      <th>4-year, primarily associate's, Private for-profit</th>\n",
       "      <td>934.380597</td>\n",
       "    </tr>\n",
       "    <tr>\n",
       "      <th>4-year, primarily associate's, Private not-for-profit</th>\n",
       "      <td>1129.413793</td>\n",
       "    </tr>\n",
       "    <tr>\n",
       "      <th>4-year, Private not-for-profit</th>\n",
       "      <td>2399.885696</td>\n",
       "    </tr>\n",
       "    <tr>\n",
       "      <th>4-year, Private for-profit</th>\n",
       "      <td>3504.501859</td>\n",
       "    </tr>\n",
       "    <tr>\n",
       "      <th>4-year, primarily associate's, Public</th>\n",
       "      <td>6889.366197</td>\n",
       "    </tr>\n",
       "    <tr>\n",
       "      <th>4-year, Public</th>\n",
       "      <td>11478.913765</td>\n",
       "    </tr>\n",
       "  </tbody>\n",
       "</table>\n",
       "</div>"
      ],
      "text/plain": [
       "                                                            Size\n",
       "Type                                                            \n",
       "4-year, primarily associate's, Private for-profit     934.380597\n",
       "4-year, primarily associate's, Private not-for-...   1129.413793\n",
       "4-year, Private not-for-profit                       2399.885696\n",
       "4-year, Private for-profit                           3504.501859\n",
       "4-year, primarily associate's, Public                6889.366197\n",
       "4-year, Public                                      11478.913765"
      ]
     },
     "execution_count": 6,
     "metadata": {},
     "output_type": "execute_result"
    }
   ],
   "source": [
    "grouped = uni.groupby('Type')\n",
    "grouped.mean().sort_values(by = 'Size', ascending = True)"
   ]
  },
  {
   "cell_type": "markdown",
   "metadata": {},
   "source": [
    "##  Median size by each university type"
   ]
  },
  {
   "cell_type": "code",
   "execution_count": 7,
   "metadata": {},
   "outputs": [
    {
     "data": {
      "text/html": [
       "<div>\n",
       "<style scoped>\n",
       "    .dataframe tbody tr th:only-of-type {\n",
       "        vertical-align: middle;\n",
       "    }\n",
       "\n",
       "    .dataframe tbody tr th {\n",
       "        vertical-align: top;\n",
       "    }\n",
       "\n",
       "    .dataframe thead th {\n",
       "        text-align: right;\n",
       "    }\n",
       "</style>\n",
       "<table border=\"1\" class=\"dataframe\">\n",
       "  <thead>\n",
       "    <tr style=\"text-align: right;\">\n",
       "      <th></th>\n",
       "      <th>Size</th>\n",
       "    </tr>\n",
       "    <tr>\n",
       "      <th>Type</th>\n",
       "      <th></th>\n",
       "    </tr>\n",
       "  </thead>\n",
       "  <tbody>\n",
       "    <tr>\n",
       "      <th>4-year, primarily associate's, Private for-profit</th>\n",
       "      <td>564.5</td>\n",
       "    </tr>\n",
       "    <tr>\n",
       "      <th>4-year, Private for-profit</th>\n",
       "      <td>730.0</td>\n",
       "    </tr>\n",
       "    <tr>\n",
       "      <th>4-year, primarily associate's, Private not-for-profit</th>\n",
       "      <td>768.0</td>\n",
       "    </tr>\n",
       "    <tr>\n",
       "      <th>4-year, Private not-for-profit</th>\n",
       "      <td>1206.0</td>\n",
       "    </tr>\n",
       "    <tr>\n",
       "      <th>4-year, primarily associate's, Public</th>\n",
       "      <td>3558.0</td>\n",
       "    </tr>\n",
       "    <tr>\n",
       "      <th>4-year, Public</th>\n",
       "      <td>7669.0</td>\n",
       "    </tr>\n",
       "  </tbody>\n",
       "</table>\n",
       "</div>"
      ],
      "text/plain": [
       "                                                      Size\n",
       "Type                                                      \n",
       "4-year, primarily associate's, Private for-profit    564.5\n",
       "4-year, Private for-profit                           730.0\n",
       "4-year, primarily associate's, Private not-for-...   768.0\n",
       "4-year, Private not-for-profit                      1206.0\n",
       "4-year, primarily associate's, Public               3558.0\n",
       "4-year, Public                                      7669.0"
      ]
     },
     "execution_count": 7,
     "metadata": {},
     "output_type": "execute_result"
    }
   ],
   "source": [
    "grouped.median().sort_values(by = 'Size', ascending = True)"
   ]
  },
  {
   "cell_type": "code",
   "execution_count": 8,
   "metadata": {},
   "outputs": [
    {
     "data": {
      "text/html": [
       "<div>\n",
       "<style scoped>\n",
       "    .dataframe tbody tr th:only-of-type {\n",
       "        vertical-align: middle;\n",
       "    }\n",
       "\n",
       "    .dataframe tbody tr th {\n",
       "        vertical-align: top;\n",
       "    }\n",
       "\n",
       "    .dataframe thead th {\n",
       "        text-align: right;\n",
       "    }\n",
       "</style>\n",
       "<table border=\"1\" class=\"dataframe\">\n",
       "  <thead>\n",
       "    <tr style=\"text-align: right;\">\n",
       "      <th></th>\n",
       "      <th>0</th>\n",
       "      <th>1</th>\n",
       "    </tr>\n",
       "  </thead>\n",
       "  <tbody>\n",
       "    <tr>\n",
       "      <th>0</th>\n",
       "      <td>800 W Jefferson, Kirksville, Missouri</td>\n",
       "      <td>63501</td>\n",
       "    </tr>\n",
       "    <tr>\n",
       "      <th>1</th>\n",
       "      <td>1600 Campus Court, Abilene, Texas</td>\n",
       "      <td>79699</td>\n",
       "    </tr>\n",
       "    <tr>\n",
       "      <th>2</th>\n",
       "      <td>2802 Moore Hwy, Tifton, Georgia</td>\n",
       "      <td>31793-2601</td>\n",
       "    </tr>\n",
       "    <tr>\n",
       "      <th>3</th>\n",
       "      <td>1101 E. 78th Street, Suite 100, Minneapolis, M...</td>\n",
       "      <td>55420-1554</td>\n",
       "    </tr>\n",
       "    <tr>\n",
       "      <th>4</th>\n",
       "      <td>305 SE 2nd Ave, Gainesville, Florida</td>\n",
       "      <td>32601</td>\n",
       "    </tr>\n",
       "    <tr>\n",
       "      <th>...</th>\n",
       "      <td>...</td>\n",
       "      <td>...</td>\n",
       "    </tr>\n",
       "    <tr>\n",
       "      <th>2902</th>\n",
       "      <td>13315 W. Washington Boulevard, Los Angeles, Ca...</td>\n",
       "      <td>90066</td>\n",
       "    </tr>\n",
       "    <tr>\n",
       "      <th>2903</th>\n",
       "      <td>1125 E 8th St, York, Nebraska</td>\n",
       "      <td>68467-2699</td>\n",
       "    </tr>\n",
       "    <tr>\n",
       "      <th>2904</th>\n",
       "      <td>Country Club Rd, York, Pennsylvania</td>\n",
       "      <td>17403-3651</td>\n",
       "    </tr>\n",
       "    <tr>\n",
       "      <th>2905</th>\n",
       "      <td>One University Plaza, Youngstown, Ohio</td>\n",
       "      <td>44555-0001</td>\n",
       "    </tr>\n",
       "    <tr>\n",
       "      <th>2906</th>\n",
       "      <td>320 South Main Street, Haverhill, Massachusetts</td>\n",
       "      <td>01835</td>\n",
       "    </tr>\n",
       "  </tbody>\n",
       "</table>\n",
       "<p>2907 rows × 2 columns</p>\n",
       "</div>"
      ],
      "text/plain": [
       "                                                      0           1\n",
       "0                 800 W Jefferson, Kirksville, Missouri       63501\n",
       "1                     1600 Campus Court, Abilene, Texas       79699\n",
       "2                       2802 Moore Hwy, Tifton, Georgia  31793-2601\n",
       "3     1101 E. 78th Street, Suite 100, Minneapolis, M...  55420-1554\n",
       "4                  305 SE 2nd Ave, Gainesville, Florida       32601\n",
       "...                                                 ...         ...\n",
       "2902  13315 W. Washington Boulevard, Los Angeles, Ca...       90066\n",
       "2903                      1125 E 8th St, York, Nebraska  68467-2699\n",
       "2904                Country Club Rd, York, Pennsylvania  17403-3651\n",
       "2905             One University Plaza, Youngstown, Ohio  44555-0001\n",
       "2906    320 South Main Street, Haverhill, Massachusetts       01835\n",
       "\n",
       "[2907 rows x 2 columns]"
      ]
     },
     "execution_count": 8,
     "metadata": {},
     "output_type": "execute_result"
    }
   ],
   "source": [
    "cityzip = uni.address.str.rsplit(' ', 1, expand = True)\n",
    "cityzip = cityzip.dropna()\n",
    "cityzip"
   ]
  },
  {
   "cell_type": "code",
   "execution_count": 9,
   "metadata": {},
   "outputs": [
    {
     "data": {
      "text/html": [
       "<div>\n",
       "<style scoped>\n",
       "    .dataframe tbody tr th:only-of-type {\n",
       "        vertical-align: middle;\n",
       "    }\n",
       "\n",
       "    .dataframe tbody tr th {\n",
       "        vertical-align: top;\n",
       "    }\n",
       "\n",
       "    .dataframe thead th {\n",
       "        text-align: right;\n",
       "    }\n",
       "</style>\n",
       "<table border=\"1\" class=\"dataframe\">\n",
       "  <thead>\n",
       "    <tr style=\"text-align: right;\">\n",
       "      <th></th>\n",
       "      <th>0</th>\n",
       "      <th>1</th>\n",
       "      <th>2</th>\n",
       "    </tr>\n",
       "  </thead>\n",
       "  <tbody>\n",
       "    <tr>\n",
       "      <th>0</th>\n",
       "      <td>800 W Jefferson</td>\n",
       "      <td>Kirksville</td>\n",
       "      <td>Missouri</td>\n",
       "    </tr>\n",
       "    <tr>\n",
       "      <th>1</th>\n",
       "      <td>1600 Campus Court</td>\n",
       "      <td>Abilene</td>\n",
       "      <td>Texas</td>\n",
       "    </tr>\n",
       "    <tr>\n",
       "      <th>2</th>\n",
       "      <td>2802 Moore Hwy</td>\n",
       "      <td>Tifton</td>\n",
       "      <td>Georgia</td>\n",
       "    </tr>\n",
       "    <tr>\n",
       "      <th>3</th>\n",
       "      <td>1101 E. 78th Street, Suite 100</td>\n",
       "      <td>Minneapolis</td>\n",
       "      <td>Minnesota</td>\n",
       "    </tr>\n",
       "    <tr>\n",
       "      <th>4</th>\n",
       "      <td>305 SE 2nd Ave</td>\n",
       "      <td>Gainesville</td>\n",
       "      <td>Florida</td>\n",
       "    </tr>\n",
       "    <tr>\n",
       "      <th>...</th>\n",
       "      <td>...</td>\n",
       "      <td>...</td>\n",
       "      <td>...</td>\n",
       "    </tr>\n",
       "    <tr>\n",
       "      <th>2902</th>\n",
       "      <td>13315 W. Washington Boulevard</td>\n",
       "      <td>Los Angeles</td>\n",
       "      <td>California</td>\n",
       "    </tr>\n",
       "    <tr>\n",
       "      <th>2903</th>\n",
       "      <td>1125 E 8th St</td>\n",
       "      <td>York</td>\n",
       "      <td>Nebraska</td>\n",
       "    </tr>\n",
       "    <tr>\n",
       "      <th>2904</th>\n",
       "      <td>Country Club Rd</td>\n",
       "      <td>York</td>\n",
       "      <td>Pennsylvania</td>\n",
       "    </tr>\n",
       "    <tr>\n",
       "      <th>2905</th>\n",
       "      <td>One University Plaza</td>\n",
       "      <td>Youngstown</td>\n",
       "      <td>Ohio</td>\n",
       "    </tr>\n",
       "    <tr>\n",
       "      <th>2906</th>\n",
       "      <td>320 South Main Street</td>\n",
       "      <td>Haverhill</td>\n",
       "      <td>Massachusetts</td>\n",
       "    </tr>\n",
       "  </tbody>\n",
       "</table>\n",
       "<p>2835 rows × 3 columns</p>\n",
       "</div>"
      ],
      "text/plain": [
       "                                   0             1               2\n",
       "0                    800 W Jefferson    Kirksville        Missouri\n",
       "1                  1600 Campus Court       Abilene           Texas\n",
       "2                     2802 Moore Hwy        Tifton         Georgia\n",
       "3     1101 E. 78th Street, Suite 100   Minneapolis       Minnesota\n",
       "4                     305 SE 2nd Ave   Gainesville         Florida\n",
       "...                              ...           ...             ...\n",
       "2902   13315 W. Washington Boulevard   Los Angeles      California\n",
       "2903                   1125 E 8th St          York        Nebraska\n",
       "2904                 Country Club Rd          York    Pennsylvania\n",
       "2905            One University Plaza    Youngstown            Ohio\n",
       "2906           320 South Main Street     Haverhill   Massachusetts\n",
       "\n",
       "[2835 rows x 3 columns]"
      ]
     },
     "execution_count": 9,
     "metadata": {},
     "output_type": "execute_result"
    }
   ],
   "source": [
    "addresses = cityzip[0].str.rsplit(',', 2, expand = True)\n",
    "addresses = addresses.dropna()\n",
    "addresses"
   ]
  },
  {
   "cell_type": "code",
   "execution_count": 10,
   "metadata": {},
   "outputs": [
    {
     "data": {
      "text/plain": [
       "0         Kirksville\n",
       "1            Abilene\n",
       "2             Tifton\n",
       "3        Minneapolis\n",
       "4        Gainesville\n",
       "            ...     \n",
       "2902     Los Angeles\n",
       "2903            York\n",
       "2904            York\n",
       "2905      Youngstown\n",
       "2906       Haverhill\n",
       "Name: 1, Length: 2835, dtype: object"
      ]
     },
     "execution_count": 10,
     "metadata": {},
     "output_type": "execute_result"
    }
   ],
   "source": [
    "city = addresses[1]\n",
    "city"
   ]
  },
  {
   "cell_type": "code",
   "execution_count": 11,
   "metadata": {},
   "outputs": [
    {
     "data": {
      "text/plain": [
       "0             Missouri\n",
       "1                Texas\n",
       "2              Georgia\n",
       "3            Minnesota\n",
       "4              Florida\n",
       "             ...      \n",
       "2902        California\n",
       "2903          Nebraska\n",
       "2904      Pennsylvania\n",
       "2905              Ohio\n",
       "2906     Massachusetts\n",
       "Name: 2, Length: 2835, dtype: object"
      ]
     },
     "execution_count": 11,
     "metadata": {},
     "output_type": "execute_result"
    }
   ],
   "source": [
    "state = addresses[2]\n",
    "state"
   ]
  },
  {
   "cell_type": "code",
   "execution_count": 12,
   "metadata": {},
   "outputs": [
    {
     "data": {
      "text/plain": [
       "0            63501\n",
       "1            79699\n",
       "2       31793-2601\n",
       "3       55420-1554\n",
       "4            32601\n",
       "           ...    \n",
       "2902         90066\n",
       "2903    68467-2699\n",
       "2904    17403-3651\n",
       "2905    44555-0001\n",
       "2906         01835\n",
       "Name: 1, Length: 2907, dtype: object"
      ]
     },
     "execution_count": 12,
     "metadata": {},
     "output_type": "execute_result"
    }
   ],
   "source": [
    "zipcode = cityzip[1]\n",
    "zipcode"
   ]
  },
  {
   "cell_type": "code",
   "execution_count": 13,
   "metadata": {},
   "outputs": [
    {
     "data": {
      "text/plain": [
       "0                        None\n",
       "1                        None\n",
       "2       primarily associate's\n",
       "3       primarily associate's\n",
       "4                        None\n",
       "                ...          \n",
       "2902                     None\n",
       "2903                     None\n",
       "2904                     None\n",
       "2905                     None\n",
       "2906                     None\n",
       "Name: 1, Length: 2907, dtype: object"
      ]
     },
     "execution_count": 13,
     "metadata": {},
     "output_type": "execute_result"
    }
   ],
   "source": [
    "types = uni.Type.str.rsplit(', ',1, expand = True)\n",
    "associates = types[0].str.split(', ', expand = True)\n",
    "associates = associates[1]\n",
    "associates"
   ]
  },
  {
   "cell_type": "code",
   "execution_count": 14,
   "metadata": {},
   "outputs": [],
   "source": [
    "types = types[1].str.split(' ', expand = True)\n",
    "for_profit = types[1]\n",
    "pub_priv = types[0]"
   ]
  },
  {
   "cell_type": "code",
   "execution_count": 33,
   "metadata": {},
   "outputs": [],
   "source": [
    "uni['city'] = city\n",
    "uni['state'] = state\n",
    "uni['zipcode'] = zipcode\n",
    "uni['for_profit'] = for_profit\n",
    "uni['pub_priv'] = pub_priv\n",
    "uni['associates'] = associates"
   ]
  },
  {
   "cell_type": "markdown",
   "metadata": {},
   "source": [
    "##  Final Dataframe"
   ]
  },
  {
   "cell_type": "code",
   "execution_count": 49,
   "metadata": {},
   "outputs": [
    {
     "data": {
      "text/html": [
       "<div>\n",
       "<style scoped>\n",
       "    .dataframe tbody tr th:only-of-type {\n",
       "        vertical-align: middle;\n",
       "    }\n",
       "\n",
       "    .dataframe tbody tr th {\n",
       "        vertical-align: top;\n",
       "    }\n",
       "\n",
       "    .dataframe thead th {\n",
       "        text-align: right;\n",
       "    }\n",
       "</style>\n",
       "<table border=\"1\" class=\"dataframe\">\n",
       "  <thead>\n",
       "    <tr style=\"text-align: right;\">\n",
       "      <th></th>\n",
       "      <th>name</th>\n",
       "      <th>address</th>\n",
       "      <th>Website</th>\n",
       "      <th>Type</th>\n",
       "      <th>Size</th>\n",
       "      <th>city</th>\n",
       "      <th>state</th>\n",
       "      <th>zipcode</th>\n",
       "      <th>for_profit</th>\n",
       "      <th>pub_priv</th>\n",
       "      <th>associates</th>\n",
       "    </tr>\n",
       "  </thead>\n",
       "  <tbody>\n",
       "    <tr>\n",
       "      <th>0</th>\n",
       "      <td>A T Still University of Health Sciences</td>\n",
       "      <td>800 W Jefferson, Kirksville, Missouri 63501</td>\n",
       "      <td>WWW.ATSU.EDU</td>\n",
       "      <td>4-year, Private not-for-profit</td>\n",
       "      <td>3480.0</td>\n",
       "      <td>Kirksville</td>\n",
       "      <td>Missouri</td>\n",
       "      <td>63501</td>\n",
       "      <td>not-for-profit</td>\n",
       "      <td>Private</td>\n",
       "      <td>0</td>\n",
       "    </tr>\n",
       "    <tr>\n",
       "      <th>1</th>\n",
       "      <td>Abilene Christian University</td>\n",
       "      <td>1600 Campus Court, Abilene, Texas 79699</td>\n",
       "      <td>www.acu.edu</td>\n",
       "      <td>4-year, Private not-for-profit</td>\n",
       "      <td>4669.0</td>\n",
       "      <td>Abilene</td>\n",
       "      <td>Texas</td>\n",
       "      <td>79699</td>\n",
       "      <td>not-for-profit</td>\n",
       "      <td>Private</td>\n",
       "      <td>0</td>\n",
       "    </tr>\n",
       "    <tr>\n",
       "      <th>2</th>\n",
       "      <td>Abraham Baldwin Agricultural College</td>\n",
       "      <td>2802 Moore Hwy, Tifton, Georgia 31793-2601</td>\n",
       "      <td>www.abac.edu</td>\n",
       "      <td>4-year, primarily associate's, Public</td>\n",
       "      <td>3600.0</td>\n",
       "      <td>Tifton</td>\n",
       "      <td>Georgia</td>\n",
       "      <td>31793-2601</td>\n",
       "      <td>None</td>\n",
       "      <td>Public</td>\n",
       "      <td>1</td>\n",
       "    </tr>\n",
       "    <tr>\n",
       "      <th>3</th>\n",
       "      <td>Academy College</td>\n",
       "      <td>1101 E. 78th Street, Suite 100, Minneapolis, M...</td>\n",
       "      <td>www.academycollege.edu</td>\n",
       "      <td>4-year, primarily associate's, Private for-profit</td>\n",
       "      <td>165.0</td>\n",
       "      <td>Minneapolis</td>\n",
       "      <td>Minnesota</td>\n",
       "      <td>55420-1554</td>\n",
       "      <td>for-profit</td>\n",
       "      <td>Private</td>\n",
       "      <td>1</td>\n",
       "    </tr>\n",
       "    <tr>\n",
       "      <th>4</th>\n",
       "      <td>Academy for Five Element Acupuncture</td>\n",
       "      <td>305 SE 2nd Ave, Gainesville, Florida 32601</td>\n",
       "      <td>www.acupuncturist.edu</td>\n",
       "      <td>4-year, Private not-for-profit</td>\n",
       "      <td>51.0</td>\n",
       "      <td>Gainesville</td>\n",
       "      <td>Florida</td>\n",
       "      <td>32601</td>\n",
       "      <td>not-for-profit</td>\n",
       "      <td>Private</td>\n",
       "      <td>0</td>\n",
       "    </tr>\n",
       "    <tr>\n",
       "      <th>...</th>\n",
       "      <td>...</td>\n",
       "      <td>...</td>\n",
       "      <td>...</td>\n",
       "      <td>...</td>\n",
       "      <td>...</td>\n",
       "      <td>...</td>\n",
       "      <td>...</td>\n",
       "      <td>...</td>\n",
       "      <td>...</td>\n",
       "      <td>...</td>\n",
       "      <td>...</td>\n",
       "    </tr>\n",
       "    <tr>\n",
       "      <th>2902</th>\n",
       "      <td>Yo San University of Traditional Chinese Medicine</td>\n",
       "      <td>13315 W. Washington Boulevard, Los Angeles, Ca...</td>\n",
       "      <td>www.yosan.edu</td>\n",
       "      <td>4-year, Private not-for-profit</td>\n",
       "      <td>139.0</td>\n",
       "      <td>Los Angeles</td>\n",
       "      <td>California</td>\n",
       "      <td>90066</td>\n",
       "      <td>not-for-profit</td>\n",
       "      <td>Private</td>\n",
       "      <td>0</td>\n",
       "    </tr>\n",
       "    <tr>\n",
       "      <th>2903</th>\n",
       "      <td>York College</td>\n",
       "      <td>1125 E 8th St, York, Nebraska 68467-2699</td>\n",
       "      <td>www.york.edu/</td>\n",
       "      <td>4-year, Private not-for-profit</td>\n",
       "      <td>396.0</td>\n",
       "      <td>York</td>\n",
       "      <td>Nebraska</td>\n",
       "      <td>68467-2699</td>\n",
       "      <td>not-for-profit</td>\n",
       "      <td>Private</td>\n",
       "      <td>0</td>\n",
       "    </tr>\n",
       "    <tr>\n",
       "      <th>2904</th>\n",
       "      <td>York College Pennsylvania</td>\n",
       "      <td>Country Club Rd, York, Pennsylvania 17403-3651</td>\n",
       "      <td>www.ycp.edu</td>\n",
       "      <td>4-year, Private not-for-profit</td>\n",
       "      <td>5627.0</td>\n",
       "      <td>York</td>\n",
       "      <td>Pennsylvania</td>\n",
       "      <td>17403-3651</td>\n",
       "      <td>not-for-profit</td>\n",
       "      <td>Private</td>\n",
       "      <td>0</td>\n",
       "    </tr>\n",
       "    <tr>\n",
       "      <th>2905</th>\n",
       "      <td>Youngstown State University</td>\n",
       "      <td>One University Plaza, Youngstown, Ohio 44555-0001</td>\n",
       "      <td>www.ysu.edu</td>\n",
       "      <td>4-year, Public</td>\n",
       "      <td>13704.0</td>\n",
       "      <td>Youngstown</td>\n",
       "      <td>Ohio</td>\n",
       "      <td>44555-0001</td>\n",
       "      <td>None</td>\n",
       "      <td>Public</td>\n",
       "      <td>0</td>\n",
       "    </tr>\n",
       "    <tr>\n",
       "      <th>2906</th>\n",
       "      <td>Zion Bible College</td>\n",
       "      <td>320 South Main Street, Haverhill, Massachusett...</td>\n",
       "      <td>www.zbc.edu</td>\n",
       "      <td>4-year, Private not-for-profit</td>\n",
       "      <td>247.0</td>\n",
       "      <td>Haverhill</td>\n",
       "      <td>Massachusetts</td>\n",
       "      <td>01835</td>\n",
       "      <td>not-for-profit</td>\n",
       "      <td>Private</td>\n",
       "      <td>0</td>\n",
       "    </tr>\n",
       "  </tbody>\n",
       "</table>\n",
       "<p>2907 rows × 11 columns</p>\n",
       "</div>"
      ],
      "text/plain": [
       "                                                   name  \\\n",
       "0               A T Still University of Health Sciences   \n",
       "1                          Abilene Christian University   \n",
       "2                  Abraham Baldwin Agricultural College   \n",
       "3                                       Academy College   \n",
       "4                  Academy for Five Element Acupuncture   \n",
       "...                                                 ...   \n",
       "2902  Yo San University of Traditional Chinese Medicine   \n",
       "2903                                       York College   \n",
       "2904                          York College Pennsylvania   \n",
       "2905                        Youngstown State University   \n",
       "2906                                 Zion Bible College   \n",
       "\n",
       "                                                address  \\\n",
       "0           800 W Jefferson, Kirksville, Missouri 63501   \n",
       "1               1600 Campus Court, Abilene, Texas 79699   \n",
       "2            2802 Moore Hwy, Tifton, Georgia 31793-2601   \n",
       "3     1101 E. 78th Street, Suite 100, Minneapolis, M...   \n",
       "4            305 SE 2nd Ave, Gainesville, Florida 32601   \n",
       "...                                                 ...   \n",
       "2902  13315 W. Washington Boulevard, Los Angeles, Ca...   \n",
       "2903           1125 E 8th St, York, Nebraska 68467-2699   \n",
       "2904     Country Club Rd, York, Pennsylvania 17403-3651   \n",
       "2905  One University Plaza, Youngstown, Ohio 44555-0001   \n",
       "2906  320 South Main Street, Haverhill, Massachusett...   \n",
       "\n",
       "                     Website  \\\n",
       "0               WWW.ATSU.EDU   \n",
       "1                www.acu.edu   \n",
       "2               www.abac.edu   \n",
       "3     www.academycollege.edu   \n",
       "4      www.acupuncturist.edu   \n",
       "...                      ...   \n",
       "2902           www.yosan.edu   \n",
       "2903           www.york.edu/   \n",
       "2904             www.ycp.edu   \n",
       "2905             www.ysu.edu   \n",
       "2906             www.zbc.edu   \n",
       "\n",
       "                                                   Type     Size  \\\n",
       "0                        4-year, Private not-for-profit   3480.0   \n",
       "1                        4-year, Private not-for-profit   4669.0   \n",
       "2                 4-year, primarily associate's, Public   3600.0   \n",
       "3     4-year, primarily associate's, Private for-profit    165.0   \n",
       "4                        4-year, Private not-for-profit     51.0   \n",
       "...                                                 ...      ...   \n",
       "2902                     4-year, Private not-for-profit    139.0   \n",
       "2903                     4-year, Private not-for-profit    396.0   \n",
       "2904                     4-year, Private not-for-profit   5627.0   \n",
       "2905                                     4-year, Public  13704.0   \n",
       "2906                     4-year, Private not-for-profit    247.0   \n",
       "\n",
       "              city           state     zipcode      for_profit pub_priv  \\\n",
       "0       Kirksville        Missouri       63501  not-for-profit  Private   \n",
       "1          Abilene           Texas       79699  not-for-profit  Private   \n",
       "2           Tifton         Georgia  31793-2601            None   Public   \n",
       "3      Minneapolis       Minnesota  55420-1554      for-profit  Private   \n",
       "4      Gainesville         Florida       32601  not-for-profit  Private   \n",
       "...            ...             ...         ...             ...      ...   \n",
       "2902   Los Angeles      California       90066  not-for-profit  Private   \n",
       "2903          York        Nebraska  68467-2699  not-for-profit  Private   \n",
       "2904          York    Pennsylvania  17403-3651  not-for-profit  Private   \n",
       "2905    Youngstown            Ohio  44555-0001            None   Public   \n",
       "2906     Haverhill   Massachusetts       01835  not-for-profit  Private   \n",
       "\n",
       "      associates  \n",
       "0              0  \n",
       "1              0  \n",
       "2              1  \n",
       "3              1  \n",
       "4              0  \n",
       "...          ...  \n",
       "2902           0  \n",
       "2903           0  \n",
       "2904           0  \n",
       "2905           0  \n",
       "2906           0  \n",
       "\n",
       "[2907 rows x 11 columns]"
      ]
     },
     "execution_count": 49,
     "metadata": {},
     "output_type": "execute_result"
    }
   ],
   "source": [
    "uni['associates'] = uni.associates.fillna(0)\n",
    "uni['associates'] = uni.associates.replace(\"primarily associate's\", 1)\n",
    "# uni[\"Associates\"] = np.where((uni[\"Associates\"] == \" primarily associate's\" )[:, None], 1, 0) #.tolist()\n",
    "# uni.drop(['Type'], axis = 1, inplace = True) #removes whole column\n",
    "uni"
   ]
  },
  {
   "cell_type": "markdown",
   "metadata": {},
   "source": [
    "##  Mean size by state"
   ]
  },
  {
   "cell_type": "code",
   "execution_count": 79,
   "metadata": {},
   "outputs": [
    {
     "data": {
      "text/plain": [
       "state\n",
       " Alabama                  5303.62\n",
       " Alaska                   5945.60\n",
       " Arizona                 10704.05\n",
       " Arkansas                 3967.69\n",
       " California               3980.66\n",
       " Colorado                 4497.00\n",
       " Connecticut              3025.62\n",
       " Delaware                 3490.00\n",
       " District of Columbia     7423.59\n",
       " Florida                  5599.01\n",
       " Georgia                  3912.04\n",
       " Guam                     1768.00\n",
       " Hawaii                   3375.15\n",
       " Idaho                    6059.73\n",
       " Illinois                 4046.21\n",
       " Indiana                  4114.89\n",
       " Iowa                     3731.20\n",
       " Kansas                   2728.35\n",
       " Kentucky                 3217.28\n",
       " Louisiana                4803.27\n",
       " Maine                    2075.32\n",
       " Maryland                 4393.20\n",
       " Massachusetts            3540.30\n",
       " Michigan                 3819.46\n",
       " Minnesota                3769.41\n",
       " Mississippi              3548.79\n",
       " Missouri                 3314.18\n",
       " Montana                  3795.10\n",
       " Nebraska                 2882.47\n",
       " Nevada                   6275.21\n",
       " New Hampshire            2630.80\n",
       " New Jersey               5653.79\n",
       " New Mexico               2034.15\n",
       " New York                 3805.05\n",
       " North Carolina           4146.53\n",
       " North Dakota             2981.00\n",
       " Northern Marianas         791.00\n",
       " Ohio                     3676.88\n",
       " Oklahoma                 3742.53\n",
       " Oregon                   2663.08\n",
       " Pennsylvania             3506.53\n",
       " Puerto Rico              3356.18\n",
       " Rhode Island             5014.30\n",
       " South Carolina           2619.70\n",
       " South Dakota             2492.61\n",
       " Tennessee                2776.29\n",
       " Texas                    5423.81\n",
       " Utah                     6375.96\n",
       " Vermont                  1596.87\n",
       " Virgin Islands           2393.00\n",
       " Virginia                 3698.13\n",
       " Washington               4355.30\n",
       " West Virginia            4439.52\n",
       " Wisconsin                4565.54\n",
       " Wyoming                  4075.00\n",
       "Name: Size, dtype: float64"
      ]
     },
     "execution_count": 79,
     "metadata": {},
     "output_type": "execute_result"
    }
   ],
   "source": [
    "group_st = uni.groupby('state')['Size']\n",
    "# group_st = uni.groupby('state')['Size'].mean()\n",
    "group_st.mean().round(2)"
   ]
  },
  {
   "cell_type": "markdown",
   "metadata": {},
   "source": [
    "##  Median size by state"
   ]
  },
  {
   "cell_type": "code",
   "execution_count": 69,
   "metadata": {},
   "outputs": [
    {
     "data": {
      "text/plain": [
       "state\n",
       " Alabama                 1693.0\n",
       " Alaska                  2954.0\n",
       " Arizona                  986.5\n",
       " Arkansas                1755.0\n",
       " California               891.0\n",
       " Colorado                1075.0\n",
       " Connecticut             1889.0\n",
       " Delaware                2233.0\n",
       " District of Columbia    1389.0\n",
       " Florida                 1178.0\n",
       " Georgia                 1891.0\n",
       " Guam                    1768.0\n",
       " Hawaii                  1140.0\n",
       " Idaho                   1939.0\n",
       " Illinois                1275.0\n",
       " Indiana                 1233.0\n",
       " Iowa                    1343.5\n",
       " Kansas                   623.0\n",
       " Kentucky                1421.0\n",
       " Louisiana               3048.5\n",
       " Maine                   1455.0\n",
       " Maryland                2077.0\n",
       " Massachusetts           1655.0\n",
       " Michigan                1952.0\n",
       " Minnesota                968.0\n",
       " Mississippi             2365.0\n",
       " Missouri                 867.0\n",
       " Montana                 1313.0\n",
       " Nebraska                 904.0\n",
       " Nevada                  1117.5\n",
       " New Hampshire           1300.0\n",
       " New Jersey              3457.5\n",
       " New Mexico               564.5\n",
       " New York                1462.5\n",
       " North Carolina          1365.0\n",
       " North Dakota            1019.0\n",
       " Northern Marianas        791.0\n",
       " Ohio                    1655.0\n",
       " Oklahoma                1919.0\n",
       " Oregon                  1031.0\n",
       " Pennsylvania            2037.5\n",
       " Puerto Rico             1724.0\n",
       " Rhode Island            4204.5\n",
       " South Carolina          1502.0\n",
       " South Dakota            1560.0\n",
       " Tennessee                934.5\n",
       " Texas                   2512.5\n",
       " Utah                     646.0\n",
       " Vermont                  731.0\n",
       " Virgin Islands          2393.0\n",
       " Virginia                1120.0\n",
       " Washington              1558.5\n",
       " West Virginia           1443.0\n",
       " Wisconsin               1982.0\n",
       " Wyoming                  146.0\n",
       "Name: Size, dtype: float64"
      ]
     },
     "execution_count": 69,
     "metadata": {},
     "output_type": "execute_result"
    }
   ],
   "source": [
    "group_st.median()"
   ]
  },
  {
   "cell_type": "markdown",
   "metadata": {},
   "source": [
    "##  Mean size by public or private"
   ]
  },
  {
   "cell_type": "code",
   "execution_count": 80,
   "metadata": {},
   "outputs": [
    {
     "data": {
      "text/plain": [
       "pub_priv\n",
       "Private     2304.23\n",
       "Public     10995.45\n",
       "Name: Size, dtype: float64"
      ]
     },
     "execution_count": 80,
     "metadata": {},
     "output_type": "execute_result"
    }
   ],
   "source": [
    "group_pp = uni.groupby('pub_priv')['Size']\n",
    "group_pp.mean().round(2)"
   ]
  },
  {
   "cell_type": "markdown",
   "metadata": {},
   "source": [
    "##  Median size by public or private"
   ]
  },
  {
   "cell_type": "code",
   "execution_count": 71,
   "metadata": {},
   "outputs": [
    {
     "data": {
      "text/plain": [
       "pub_priv\n",
       "Private     948.0\n",
       "Public     7081.0\n",
       "Name: Size, dtype: float64"
      ]
     },
     "execution_count": 71,
     "metadata": {},
     "output_type": "execute_result"
    }
   ],
   "source": [
    "group_pp.median()"
   ]
  },
  {
   "cell_type": "markdown",
   "metadata": {},
   "source": [
    "## Mean by primarily associate's"
   ]
  },
  {
   "cell_type": "code",
   "execution_count": 81,
   "metadata": {},
   "outputs": [
    {
     "data": {
      "text/html": [
       "<div>\n",
       "<style scoped>\n",
       "    .dataframe tbody tr th:only-of-type {\n",
       "        vertical-align: middle;\n",
       "    }\n",
       "\n",
       "    .dataframe tbody tr th {\n",
       "        vertical-align: top;\n",
       "    }\n",
       "\n",
       "    .dataframe thead th {\n",
       "        text-align: right;\n",
       "    }\n",
       "</style>\n",
       "<table border=\"1\" class=\"dataframe\">\n",
       "  <thead>\n",
       "    <tr style=\"text-align: right;\">\n",
       "      <th></th>\n",
       "      <th>Size</th>\n",
       "    </tr>\n",
       "    <tr>\n",
       "      <th>associates</th>\n",
       "      <th></th>\n",
       "    </tr>\n",
       "  </thead>\n",
       "  <tbody>\n",
       "    <tr>\n",
       "      <th>0</th>\n",
       "      <td>4801.80</td>\n",
       "    </tr>\n",
       "    <tr>\n",
       "      <th>1</th>\n",
       "      <td>1966.71</td>\n",
       "    </tr>\n",
       "  </tbody>\n",
       "</table>\n",
       "</div>"
      ],
      "text/plain": [
       "               Size\n",
       "associates         \n",
       "0           4801.80\n",
       "1           1966.71"
      ]
     },
     "execution_count": 81,
     "metadata": {},
     "output_type": "execute_result"
    }
   ],
   "source": [
    "group_asc = uni.groupby('associates')\n",
    "group_asc.mean().round(2)"
   ]
  },
  {
   "cell_type": "markdown",
   "metadata": {},
   "source": [
    "## Median by primarily associate's"
   ]
  },
  {
   "cell_type": "code",
   "execution_count": 55,
   "metadata": {},
   "outputs": [
    {
     "data": {
      "text/html": [
       "<div>\n",
       "<style scoped>\n",
       "    .dataframe tbody tr th:only-of-type {\n",
       "        vertical-align: middle;\n",
       "    }\n",
       "\n",
       "    .dataframe tbody tr th {\n",
       "        vertical-align: top;\n",
       "    }\n",
       "\n",
       "    .dataframe thead th {\n",
       "        text-align: right;\n",
       "    }\n",
       "</style>\n",
       "<table border=\"1\" class=\"dataframe\">\n",
       "  <thead>\n",
       "    <tr style=\"text-align: right;\">\n",
       "      <th></th>\n",
       "      <th>Size</th>\n",
       "    </tr>\n",
       "    <tr>\n",
       "      <th>associates</th>\n",
       "      <th></th>\n",
       "    </tr>\n",
       "  </thead>\n",
       "  <tbody>\n",
       "    <tr>\n",
       "      <th>0</th>\n",
       "      <td>1727.0</td>\n",
       "    </tr>\n",
       "    <tr>\n",
       "      <th>1</th>\n",
       "      <td>716.0</td>\n",
       "    </tr>\n",
       "  </tbody>\n",
       "</table>\n",
       "</div>"
      ],
      "text/plain": [
       "              Size\n",
       "associates        \n",
       "0           1727.0\n",
       "1            716.0"
      ]
     },
     "execution_count": 55,
     "metadata": {},
     "output_type": "execute_result"
    }
   ],
   "source": [
    "group_asc.median()"
   ]
  },
  {
   "cell_type": "markdown",
   "metadata": {},
   "source": [
    "## Sum size by state"
   ]
  },
  {
   "cell_type": "code",
   "execution_count": 72,
   "metadata": {},
   "outputs": [
    {
     "data": {
      "text/plain": [
       "state\n",
       " Alabama                 222752.0\n",
       " Alaska                   29728.0\n",
       " Arizona                 428162.0\n",
       " Arkansas                103160.0\n",
       " California              915552.0\n",
       " Colorado                211359.0\n",
       " Connecticut              96820.0\n",
       " Delaware                 17450.0\n",
       " District of Columbia    126201.0\n",
       " Florida                 694277.0\n",
       " Georgia                 297315.0\n",
       " Guam                      3536.0\n",
       " Hawaii                   43877.0\n",
       " Idaho                    66657.0\n",
       " Illinois                473407.0\n",
       " Indiana                 304502.0\n",
       " Iowa                    171635.0\n",
       " Kansas                   92764.0\n",
       " Kentucky                138343.0\n",
       " Louisiana               144098.0\n",
       " Maine                    39431.0\n",
       " Maryland                175728.0\n",
       " Massachusetts           343409.0\n",
       " Michigan                255904.0\n",
       " Minnesota               282706.0\n",
       " Mississippi              67427.0\n",
       " Missouri                281705.0\n",
       " Montana                  37951.0\n",
       " Nebraska                 86474.0\n",
       " Nevada                   87853.0\n",
       " New Hampshire            52616.0\n",
       " New Jersey              237459.0\n",
       " New Mexico               40683.0\n",
       " New York                829501.0\n",
       " North Carolina          281964.0\n",
       " North Dakota             44715.0\n",
       " Northern Marianas          791.0\n",
       " Ohio                    397103.0\n",
       " Oklahoma                142216.0\n",
       " Oregon                  103860.0\n",
       " Pennsylvania            568058.0\n",
       " Puerto Rico             204727.0\n",
       " Rhode Island             50143.0\n",
       " South Carolina          112647.0\n",
       " South Dakota             44867.0\n",
       " Tennessee               194340.0\n",
       " Texas                   618314.0\n",
       " Utah                    172151.0\n",
       " Vermont                  36728.0\n",
       " Virgin Islands            2393.0\n",
       " Virginia                247775.0\n",
       " Washington              191633.0\n",
       " West Virginia           102109.0\n",
       " Wisconsin               237408.0\n",
       " Wyoming                  12225.0\n",
       "Name: Size, dtype: float64"
      ]
     },
     "execution_count": 72,
     "metadata": {},
     "output_type": "execute_result"
    }
   ],
   "source": [
    "group_st.sum()"
   ]
  },
  {
   "cell_type": "code",
   "execution_count": null,
   "metadata": {},
   "outputs": [],
   "source": []
  }
 ],
 "metadata": {
  "kernelspec": {
   "display_name": "Python 3",
   "language": "python",
   "name": "python3"
  },
  "language_info": {
   "codemirror_mode": {
    "name": "ipython",
    "version": 3
   },
   "file_extension": ".py",
   "mimetype": "text/x-python",
   "name": "python",
   "nbconvert_exporter": "python",
   "pygments_lexer": "ipython3",
   "version": "3.7.7"
  }
 },
 "nbformat": 4,
 "nbformat_minor": 4
}
